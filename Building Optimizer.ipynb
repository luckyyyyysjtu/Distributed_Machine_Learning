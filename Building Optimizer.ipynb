{
 "cells": [
  {
   "cell_type": "markdown",
   "metadata": {
    "id": "62fLXxvCtPSc"
   },
   "source": [
    "# Building Your Own Optimizers\n",
    "Optimizers tie the loss function and model parameters together by updating the model in response to the output of the loss function. In simpler terms, optimizers shape your model into its most accurate possible form by futzing with the weights. In even more simpler terms, optimizers define the way you want your model to be trained.\n",
    "\n",
    "The selection of optimizers could have dramatic effect on the performance of your model. If you choose a complex optimizer for a simple model, you would be likely to spend much more time in training with barely improved accuracy. And if you choose a naive optimizer for a complicated model, you would probably end up with poor accuracy.  \n",
    "\n",
    "This exercise will cover:\n",
    "- *Part 1: Calling existing optimizers provided by tf.keras*\n",
    "- *Part 2: Implementing and evaluating your own optimizers*\n"
   ]
  },
  {
   "cell_type": "markdown",
   "metadata": {
    "id": "jFFfr0xJymEU"
   },
   "source": [
    "## Part 1: Calling existing optimizers provided by tf.keras\n",
    "In this part, we will build up a demo pipeline, demonstrating how to involve optimizers given by `tf.keras` into the training process."
   ]
  },
  {
   "cell_type": "markdown",
   "metadata": {
    "id": "BK-Y1FCJzMAD"
   },
   "source": [
    "## (1a) Setting up the environment\n",
    "Just run the following cell to establish the runtime environment. Note that we're using Tensorflow 2.0 for this part of assignment."
   ]
  },
  {
   "cell_type": "code",
   "execution_count": 1,
   "metadata": {
    "colab": {
     "base_uri": "https://localhost:8080/"
    },
    "id": "_EyUqv7tznpQ",
    "outputId": "bac7a6c5-fcd9-4802-ddc8-af70f5e29c0c"
   },
   "outputs": [
    {
     "name": "stdout",
     "output_type": "stream",
     "text": [
      "Colab only includes TensorFlow 2.x; %tensorflow_version has no effect.\n"
     ]
    }
   ],
   "source": [
    "from __future__ import absolute_import, division, print_function, unicode_literals\n",
    "\n",
    "# If running locally, comment out the following try-except block.\n",
    "try:\n",
    "  # %tensorflow_version only exists in Colab.\n",
    "  %tensorflow_version 2.x\n",
    "except Exception:\n",
    "  pass\n",
    "\n",
    "import tensorflow as tf\n",
    "import numpy as np\n",
    "from tensorflow.python.ops import math_ops"
   ]
  },
  {
   "cell_type": "markdown",
   "metadata": {
    "id": "Jq1P1vvkz7J-"
   },
   "source": [
    "## (1b) Building a baseline model\n",
    "In this task, you will create a simple Linear Regression model with a synthetic toy dataset. Mean Squared Error (MSE) will be used as the loss metric.\n",
    "\n",
    "Note we have set a seed for `tf.random` for auto grading purpose. Please don't change the seed."
   ]
  },
  {
   "cell_type": "code",
   "execution_count": 2,
   "metadata": {
    "deletable": false,
    "id": "YGJTEMT01sP0",
    "nbgrader": {
     "cell_type": "code",
     "checksum": "e73462dde769e73dba5e6793e8220633",
     "grade": false,
     "grade_id": "LR_MSE",
     "locked": false,
     "schema_version": 3,
     "solution": true,
     "task": false
    }
   },
   "outputs": [],
   "source": [
    "# A toy dataset of points around y = 4 * x_1 + 3 * x_2 + 2\n",
    "NUM_EXAMPLES = 2000\n",
    "tf.random.set_seed(10605)   # DON'T CHANGE THIS!\n",
    "X_train = tf.random.normal([NUM_EXAMPLES, 2])\n",
    "noise = tf.random.normal([NUM_EXAMPLES, 1])\n",
    "y_train = tf.matmul(X_train, [[4.], [3.]]) + 2 + noise\n",
    "\n",
    "# Definition of the Linear Regression model\n",
    "class Linear(tf.keras.Model):\n",
    "  def __init__(self):\n",
    "    super(Linear, self).__init__()\n",
    "    self.w = tf.Variable([[5., 5.]], name='weight')\n",
    "    self.b = tf.Variable(10., name='bias')\n",
    "\n",
    "  # Implementation of Linear Regression\n",
    "  # TODO: Replace <FILL IN> with appropriate code\n",
    "  def call(self, inputs):\n",
    "    \"\"\"\n",
    "      Implementation of Linear Regression. This function will use current parameters to predict the labels for inputs\n",
    "\n",
    "      Note:\n",
    "          You should try to make use of Tensorflow library to perform related calculation.\n",
    "\n",
    "      Args:\n",
    "          inputs (tf.Tensor): The input tensor of this Linear Regression model.\n",
    "\n",
    "      Returns:\n",
    "          tf.Tensor: Predicted label\n",
    "    \"\"\"\n",
    "    return tf.matmul(inputs, tf.transpose(self.w)) + self.b\n",
    "\n",
    "\n",
    "# MSE loss function\n",
    "# TODO: Replace <FILL IN> with appropriate code\n",
    "def loss(y_true, y_pred):\n",
    "  \"\"\"\n",
    "    Calculate MSE loss between the predicted label and the actual label.\n",
    "\n",
    "    Note:\n",
    "        You should try to make use of Tensorflow library to perform related calculation.\n",
    "\n",
    "    Args:\n",
    "        y_true (tf.Tensor): The actual label.\n",
    "        y_pred (tf.Tensor): The predicted label.\n",
    "\n",
    "    Returns:\n",
    "        tf.Tensor: MSE loss value\n",
    "  \"\"\"\n",
    "  return tf.reduce_mean(tf.square(y_true - y_pred))"
   ]
  },
  {
   "cell_type": "code",
   "execution_count": 3,
   "metadata": {
    "deletable": false,
    "editable": false,
    "id": "QGIWie3vB05w",
    "nbgrader": {
     "cell_type": "code",
     "checksum": "f08b00caed24004bec31250b676ff240",
     "grade": true,
     "grade_id": "test_LR_MSE",
     "locked": true,
     "points": 5,
     "schema_version": 3,
     "solution": false,
     "task": false
    }
   },
   "outputs": [],
   "source": [
    "# Test for LR_MSE\n",
    "m, x, y = Linear(), tf.constant([[1.0, 2.0]]), tf.constant([3.0])\n",
    "assert np.equal(m(x).numpy()[0][0], 25.0), \"Wrong implementation of Linear Regression\"\n",
    "assert np.equal(loss(m(x), y).numpy(), 484.0), \"Wrong implementation of MSE loss\""
   ]
  },
  {
   "cell_type": "markdown",
   "metadata": {
    "id": "2e7iwBiMKNW3"
   },
   "source": [
    "## (1c) Applying an existing optimizer\n",
    "Next, we will apply an Adam optimizer provided by `tf.keras` to our previously defined Linear Regression model. You can reuse this code snippet to validate your own optimizers.\n"
   ]
  },
  {
   "cell_type": "code",
   "execution_count": 4,
   "metadata": {
    "colab": {
     "base_uri": "https://localhost:8080/"
    },
    "id": "bDTTt3FtNEJY",
    "outputId": "19c09aa6-47b2-47d1-eadf-1dbc46083f57"
   },
   "outputs": [
    {
     "name": "stdout",
     "output_type": "stream",
     "text": [
      "Epoch 1/10\n",
      "63/63 [==============================] - 7s 19ms/step - loss: 30.8471\n",
      "Epoch 2/10\n",
      "63/63 [==============================] - 1s 10ms/step - loss: 2.9877\n",
      "Epoch 3/10\n",
      "63/63 [==============================] - 1s 12ms/step - loss: 1.0083\n",
      "Epoch 4/10\n",
      "63/63 [==============================] - 1s 11ms/step - loss: 0.9775\n",
      "Epoch 5/10\n",
      "63/63 [==============================] - 1s 15ms/step - loss: 0.9781\n",
      "Epoch 6/10\n",
      "63/63 [==============================] - 0s 7ms/step - loss: 0.9743\n",
      "Epoch 7/10\n",
      "63/63 [==============================] - 0s 6ms/step - loss: 0.9736\n",
      "Epoch 8/10\n",
      "63/63 [==============================] - 0s 8ms/step - loss: 0.9806\n",
      "Epoch 9/10\n",
      "63/63 [==============================] - 0s 7ms/step - loss: 0.9747\n",
      "Epoch 10/10\n",
      "63/63 [==============================] - 0s 5ms/step - loss: 0.9710\n"
     ]
    },
    {
     "data": {
      "text/plain": [
       "<keras.src.callbacks.History at 0x7c3e0584f220>"
      ]
     },
     "execution_count": 4,
     "metadata": {},
     "output_type": "execute_result"
    }
   ],
   "source": [
    "model = Linear()\n",
    "# Standard method to compile a tf.keras.Model\n",
    "model.compile(optimizer=tf.keras.optimizers.Adam(learning_rate=0.1), loss=loss)\n",
    "# Standard method to fit a tf.keras.Model\n",
    "model.fit(X_train, y_train, batch_size=32, epochs=10)"
   ]
  },
  {
   "cell_type": "markdown",
   "metadata": {
    "id": "InSZvNu4RFFf"
   },
   "source": [
    "## Part 2: Implementing your own optimizers\n",
    "In this part, you will implement four different optimizers by yourself! Don't be panic if you're not good at math stuff, we will give you enough instructions and explanations!\n",
    "\n",
    "Generally, an optimizer class should contain three methods:\n",
    "- `__init__`: Initializes required parameters.\n",
    "-  `calculate_gradient`: Calculates gradients in the computational graph.\n",
    "- `apply_gradient`: Updates parameters of the model.\n",
    "\n",
    "Some of you may notice that we're not using the \"keras-style\" to implement our optimizers. Since keras is a high-level encapsulation, its implementation of optimizers is generally too abstract for you to get the mathematical essence. This hacky way can enable you to design your own optimizers in a lower, Tensorflow level."
   ]
  },
  {
   "cell_type": "markdown",
   "metadata": {
    "id": "_yvaOmmUTyjz"
   },
   "source": [
    "## (2a) Gradient Descent\n",
    "Let's start with the simplest Gradient Descent.\n",
    "\n",
    "For a Linear Regression model with MSE where $\\mathbf{y}=w^T\\mathbf{X} + b$, the update rules of parameters at the $t$ th epoch are as follows:\n",
    "\n",
    "$$w^{(t+1)}=w^{(t)}-\\frac{\\alpha}{n} \\sum_{i=1}^{n} 2 \\cdot (h_{w,b}(\\mathbf{X}^{(i)}) - \\mathbf{y}^{(i)}) \\mathbf{X}^{(i)}$$\n",
    "\n",
    "$$b^{(t+1)}=b^{(t)}-\\frac{\\alpha}{n} \\sum_{i=1}^{n} 2 \\cdot (h_{w,b}(\\mathbf{X}^{(i)}) - \\mathbf{y}^{(i)}))$$\n",
    "\n",
    "where $n$ is the size of input dataset.\n",
    "\n"
   ]
  },
  {
   "cell_type": "code",
   "execution_count": 5,
   "metadata": {
    "deletable": false,
    "id": "Iv5EvSVQagfz",
    "nbgrader": {
     "cell_type": "code",
     "checksum": "9754bdc6190cf522677ec2e76afc24cb",
     "grade": false,
     "grade_id": "GD",
     "locked": false,
     "schema_version": 3,
     "solution": true,
     "task": false
    }
   },
   "outputs": [],
   "source": [
    "# TODO: Replace <FILL IN> with appropriate code\n",
    "class GD():\n",
    "  def __init__(self, lr=0.01):\n",
    "    \"\"\"Initializes required parameters.\n",
    "\n",
    "      Args:\n",
    "          lr (float): Learning rate.\n",
    "    \"\"\"\n",
    "    self.lr = lr\n",
    "\n",
    "  def calculate_gradient(self, X, y, model):\n",
    "    \"\"\"Calculates gradients in the computational graph.\n",
    "\n",
    "      Note:\n",
    "          You should try to make use of Tensorflow library to perform related calculation.\n",
    "\n",
    "      Args:\n",
    "          X (tf.Tensor): The input.\n",
    "          y (tf.Tensor): The actual label.\n",
    "          model (tf.keras.Model): The model used to predict y with given input X.\n",
    "\n",
    "      Returns:\n",
    "          Tuple: (gradient w.r.t w, gradient w.r.t b)\n",
    "    \"\"\"\n",
    "    grads_w = 2.0 * self.lr / X.shape[0] * tf.matmul((model(X) - y), X, transpose_a=True)\n",
    "    grads_b = 2.0 * self.lr / X.shape[0] * tf.reduce_sum(model(X) - y)\n",
    "    return (grads_w, grads_b)\n",
    "\n",
    "  def apply_gradient(self, grads, model):\n",
    "    \"\"\"Updates parameters of the model.\n",
    "\n",
    "      Note:\n",
    "          You should try to make use of Tensorflow library to perform related calculation.\n",
    "\n",
    "      Args:\n",
    "          grads (Tuple): (gradient w.r.t w, gradient w.r.t b).\n",
    "          model (tf.keras.Model): The model used to predict y with given input X.\n",
    "    \"\"\"\n",
    "    model.w.assign(model.w-grads[0])\n",
    "    model.b.assign(model.b-grads[1])\n"
   ]
  },
  {
   "cell_type": "code",
   "execution_count": 6,
   "metadata": {
    "colab": {
     "base_uri": "https://localhost:8080/"
    },
    "id": "FqAZAPWNsVRV",
    "outputId": "42ec9588-d166-4c57-90e9-0625622c3751"
   },
   "outputs": [
    {
     "name": "stdout",
     "output_type": "stream",
     "text": [
      "Initial loss: 68.725\n",
      "Loss at epoch 0: 66.072\n",
      "Loss at epoch 20: 30.250\n",
      "Loss at epoch 40: 14.141\n",
      "Loss at epoch 60: 6.895\n",
      "Loss at epoch 80: 3.636\n",
      "Loss at epoch 100: 2.169\n",
      "Loss at epoch 120: 1.509\n",
      "Loss at epoch 140: 1.212\n",
      "Loss at epoch 160: 1.078\n",
      "Loss at epoch 180: 1.018\n",
      "Loss at epoch 200: 0.991\n",
      "Loss at epoch 220: 0.979\n",
      "Loss at epoch 240: 0.973\n",
      "Loss at epoch 260: 0.971\n",
      "Loss at epoch 280: 0.970\n",
      "Final loss: 0.969\n",
      "w = [[4.0046396 3.0552888]], b = 2.0367746\n"
     ]
    }
   ],
   "source": [
    "# Evaluation\n",
    "model_0 = Linear()\n",
    "opt_0 = GD()\n",
    "\n",
    "print(\"Initial loss: %.3f\" % loss(model_0(X_train), y_train))\n",
    "\n",
    "epochs = 300\n",
    "for i in range(epochs):\n",
    "  # Calculate current gradients\n",
    "  grads = opt_0.calculate_gradient(X_train, y_train, model_0)\n",
    "  # Use the optimizer to update gradients\n",
    "  opt_0.apply_gradient(grads, model_0)\n",
    "  if i % 20 == 0:\n",
    "    print(\"Loss at epoch %d: %.3f\" % (i, loss(model_0(X_train), y_train)))\n",
    "\n",
    "print(\"Final loss: %.3f\" % loss(model_0(X_train), y_train))\n",
    "print(\"w = %s, b = %s\" % (model_0.w.numpy(), model_0.b.numpy()))"
   ]
  },
  {
   "cell_type": "code",
   "execution_count": 7,
   "metadata": {
    "deletable": false,
    "editable": false,
    "id": "qB8UveuntaAd",
    "nbgrader": {
     "cell_type": "code",
     "checksum": "f29788020d6f3c633900f1c3b5174d46",
     "grade": true,
     "grade_id": "test_GD",
     "locked": true,
     "points": 5,
     "schema_version": 3,
     "solution": false,
     "task": false
    }
   },
   "outputs": [],
   "source": [
    "# Test case\n",
    "assert np.allclose(loss(model_0(X_train), y_train), 0.969, atol=1e-3), 'Wrong implementation of GD'"
   ]
  },
  {
   "cell_type": "markdown",
   "metadata": {
    "id": "4gpEJl78dWkW"
   },
   "source": [
    "## (2b) Stochastic Gradient Descent\n",
    "Let's take one step further. In SGD, you should randomly choose one data point to calculate the gradient each time."
   ]
  },
  {
   "cell_type": "code",
   "execution_count": 8,
   "metadata": {
    "deletable": false,
    "id": "U-uvm_TCdqTN",
    "nbgrader": {
     "cell_type": "code",
     "checksum": "111f3947040e52d9b536071859a9ee39",
     "grade": false,
     "grade_id": "SGD",
     "locked": false,
     "schema_version": 3,
     "solution": true,
     "task": false
    }
   },
   "outputs": [],
   "source": [
    "# TODO: Replace <FILL IN> with appropriate code\n",
    "class SGD():\n",
    "  def __init__(self, lr=0.01):\n",
    "    \"\"\"Initializes required parameters.\n",
    "\n",
    "      Args:\n",
    "          lr (float): Learning rate.\n",
    "    \"\"\"\n",
    "    self.lr = lr\n",
    "\n",
    "  def calculate_gradient(self, X, y, model):\n",
    "    \"\"\"Calculates gradients in the computational graph.\n",
    "\n",
    "      Note:\n",
    "          You should try to make use of Tensorflow library to perform related calculation.\n",
    "\n",
    "      Args:\n",
    "          X (tf.Tensor): The input.\n",
    "          y (tf.Tensor): The actual label.\n",
    "          model (tf.keras.Model): The model used to predict y with given input X.\n",
    "\n",
    "      Returns:\n",
    "          Tuple: (gradient w.r.t w, gradient w.r.t b)\n",
    "    \"\"\"\n",
    "    index = np.random.randint(0,X.shape[0])\n",
    "    grads_w = 2.0 * self.lr  * (model(tf.expand_dims(X[index],axis=0)) - y[index]) * X[index]\n",
    "    grads_b = 2.0 * self.lr  * (model(tf.expand_dims(X[index],axis=0)) - y[index])[0,0]\n",
    "\n",
    "    return (grads_w, grads_b)\n",
    "\n",
    "\n",
    "  def apply_gradient(self, grads, model):\n",
    "    \"\"\"Updates parameters of the model.\n",
    "\n",
    "      Note:\n",
    "          You should try to make use of Tensorflow library to perform related calculation.\n",
    "          Please use np.random for all of your random needs!\n",
    "\n",
    "      Args:\n",
    "          grads (Tuple): (gradient w.r.t W, gradient w.r.t B).\n",
    "          model (tf.keras.Model): The model used to predict y with given input X.\n",
    "    \"\"\"\n",
    "    model.w.assign(model.w-grads[0])\n",
    "    model.b.assign(model.b-grads[1])\n"
   ]
  },
  {
   "cell_type": "code",
   "execution_count": 9,
   "metadata": {
    "colab": {
     "base_uri": "https://localhost:8080/"
    },
    "id": "5F5K9CzguDBq",
    "outputId": "ad220932-0bc9-45e9-e144-d149647b4d44"
   },
   "outputs": [
    {
     "name": "stdout",
     "output_type": "stream",
     "text": [
      "Initial loss: 68.725\n",
      "Loss at epoch 0: 67.420\n",
      "Loss at epoch 20: 36.826\n",
      "Loss at epoch 40: 17.280\n",
      "Loss at epoch 60: 9.702\n",
      "Loss at epoch 80: 5.188\n",
      "Loss at epoch 100: 2.872\n",
      "Loss at epoch 120: 1.763\n",
      "Loss at epoch 140: 1.517\n",
      "Loss at epoch 160: 1.173\n",
      "Loss at epoch 180: 1.080\n",
      "Loss at epoch 200: 1.004\n",
      "Loss at epoch 220: 1.025\n",
      "Loss at epoch 240: 1.033\n",
      "Loss at epoch 260: 1.070\n",
      "Loss at epoch 280: 1.001\n",
      "Final loss: 0.991\n",
      "w = [[3.9451232 3.1804113]], b = 2.0586069\n"
     ]
    }
   ],
   "source": [
    "# Evaluation\n",
    "model_1 = Linear()\n",
    "np.random.seed(10605) # Do not change\n",
    "opt_1 = SGD()\n",
    "\n",
    "print(\"Initial loss: %.3f\" % loss(model_1(X_train), y_train))\n",
    "\n",
    "epochs = 300\n",
    "for i in range(epochs):\n",
    "  # Calculate current gradients\n",
    "  grads = opt_1.calculate_gradient(X_train, y_train, model_1)\n",
    "  # Use the optimizer to update gradients\n",
    "  opt_1.apply_gradient(grads, model_1)\n",
    "  if i % 20 == 0:\n",
    "    print(\"Loss at epoch %d: %.3f\" % (i, loss(model_1(X_train), y_train)))\n",
    "\n",
    "print(\"Final loss: %.3f\" % loss(model_1(X_train), y_train))\n",
    "print(\"w = %s, b = %s\" % (model_1.w.numpy(), model_1.b.numpy()))"
   ]
  },
  {
   "cell_type": "code",
   "execution_count": 10,
   "metadata": {
    "deletable": false,
    "editable": false,
    "id": "fYQkHSwGuOC_",
    "nbgrader": {
     "cell_type": "code",
     "checksum": "3cfb94a77ae887117d88c6816d5cdc7d",
     "grade": true,
     "grade_id": "test_SGD",
     "locked": true,
     "points": 5,
     "schema_version": 3,
     "solution": false,
     "task": false
    }
   },
   "outputs": [],
   "source": [
    "# Test case\n",
    "assert np.allclose(loss(model_1(X_train), y_train), 1.0, atol=0.05), 'Wrong implementation of SGD'"
   ]
  },
  {
   "cell_type": "markdown",
   "metadata": {
    "id": "pIkQubmCuWWy"
   },
   "source": [
    "## (2c) AdaGrad\n",
    "\n",
    "One of the shortcomings about Gradient Descent is that its performance highly depends on the initial learning rate. Poor selection of initial learning rate would lead to either slow convergence or incapability of finding local minimum. In order to solve this problem, a revised version called AdaGrad is introduced.\n",
    "\n",
    "As its name suggests, AdaGrad makes its learning rate adaptive. To be more specific, AdaGrad uses past squared gradients to form an accumulated regularizer for its learning rate.\n",
    "\n",
    "Assuming $g^{(t)}$ is the gradient at $t$ th epoch, AdaGrad first calculates the accumulated squared gradients:\n",
    "\n",
    "$$r^{(t)}=r^{(t-1)}+(g^{(t)})^2$$\n",
    "\n",
    "Then AdaGrad will use this accumulated squared gradients to regularize its learning rate:\n",
    "\n",
    "$$w^{(t+1)}=w^{(t)}-\\frac{\\alpha}{\\sqrt{r^{(t)}} + \\epsilon} \\cdot g_w^{(t)}$$\n",
    "$$b^{(t+1)}=b^{(t)}-\\frac{\\alpha}{\\sqrt{r^{(t)}} + \\epsilon} \\cdot g_b^{(t)}$$\n",
    "\n",
    "where $\\epsilon$ is an additive constant (usually set as $10^{-7}$) that ensures we do not divide by 0.\n",
    "\n",
    "Note that you can reuse the `calculate_gradient` function in SGD for AdaGrad.\n"
   ]
  },
  {
   "cell_type": "code",
   "execution_count": 11,
   "metadata": {
    "deletable": false,
    "id": "dXcODnEjzrz1",
    "nbgrader": {
     "cell_type": "code",
     "checksum": "e8b721afab643bf082a7ce14299296d8",
     "grade": false,
     "grade_id": "AdaGrad",
     "locked": false,
     "schema_version": 3,
     "solution": true,
     "task": false
    }
   },
   "outputs": [],
   "source": [
    "# TODO: Replace <FILL IN> with appropriate code\n",
    "class AdaGrad():\n",
    "  def __init__(self, lr=0.001, epsilon=1e-7):\n",
    "    \"\"\"Initializes required parameters.\n",
    "\n",
    "      Note: self.accumulator is the accumulated squared gradients. It is a tuple with following format:\n",
    "        (accumulator w.r.t w, accumulator w.r.t b)\n",
    "        And it should be initialized with the value of 0.1\n",
    "\n",
    "      Args:\n",
    "          lr (float): Learning rate.\n",
    "          epsilon (float): Additive constant that ensures we do not divide by 0.\n",
    "    \"\"\"\n",
    "    self.lr = lr\n",
    "    self.epsilon = epsilon\n",
    "    self.accumulator = (0.1,0.1)\n",
    "\n",
    "\n",
    "  def calculate_gradient(self, X, y, model):\n",
    "    \"\"\"Calculates gradients in the computational graph.\n",
    "\n",
    "      Note:\n",
    "          You should try to make use of Tensorflow library to perform related calculation.\n",
    "\n",
    "      Args:\n",
    "          X (tf.Tensor): The input.\n",
    "          y (tf.Tensor): The actual label.\n",
    "          model (tf.keras.Model): The model used to predict y with given input X.\n",
    "\n",
    "      Returns:\n",
    "          Tuple: (gradient w.r.t w, gradient w.r.t b)\n",
    "    \"\"\"\n",
    "    grads_w, grads_b = SGD(self.lr).calculate_gradient(X,y,model)\n",
    "    self.accumulator = (self.accumulator[0] + tf.square(grads_w), self.accumulator[1] + tf.square(grads_b))\n",
    "    return (grads_w, grads_b)\n",
    "\n",
    "  def apply_gradient(self, grads, model):\n",
    "    \"\"\"Updates parameters of the model.\n",
    "\n",
    "      Note:\n",
    "          You should try to make use of Tensorflow library to perform related calculation.\n",
    "          Please use np.random for all of your random needs!\n",
    "\n",
    "      Args:\n",
    "          grads (Tuple): (gradient w.r.t w, gradient w.r.t b).\n",
    "          model (tf.keras.Model): The model used to predict y with given input X.\n",
    "    \"\"\"\n",
    "    model.w.assign(model.w - self.lr / (np.sqrt(self.accumulator[0])+self.epsilon) * grads[0])\n",
    "    model.b.assign(model.b - self.lr / (np.sqrt(self.accumulator[1])+self.epsilon) * grads[1])\n",
    "\n",
    "\n",
    "\n",
    "\n"
   ]
  },
  {
   "cell_type": "code",
   "execution_count": 12,
   "metadata": {
    "colab": {
     "base_uri": "https://localhost:8080/"
    },
    "id": "kzeYXHRZ2xZD",
    "outputId": "abe1797b-9d1a-4d52-899d-4252c3e96c97"
   },
   "outputs": [
    {
     "name": "stdout",
     "output_type": "stream",
     "text": [
      "Initial loss: 68.725\n",
      "Loss at epoch 0: 67.743\n",
      "Loss at epoch 20: 58.119\n",
      "Loss at epoch 40: 52.684\n",
      "Loss at epoch 60: 49.264\n",
      "Loss at epoch 80: 46.336\n",
      "Loss at epoch 100: 43.394\n",
      "Loss at epoch 120: 40.854\n",
      "Loss at epoch 140: 38.888\n",
      "Loss at epoch 160: 37.058\n",
      "Loss at epoch 180: 35.594\n",
      "Loss at epoch 200: 34.031\n",
      "Loss at epoch 220: 32.617\n",
      "Loss at epoch 240: 31.569\n",
      "Loss at epoch 260: 30.213\n",
      "Loss at epoch 280: 29.341\n",
      "Final loss: 28.200\n",
      "w = [[4.740031 4.426561]], b = 7.028322\n"
     ]
    }
   ],
   "source": [
    "# Evaluation\n",
    "model_2 = Linear()\n",
    "np.random.seed(10605) # Do not change!\n",
    "opt_2 = AdaGrad(lr=0.1)\n",
    "\n",
    "print(\"Initial loss: %.3f\" % loss(model_2(X_train), y_train))\n",
    "\n",
    "epochs = 300\n",
    "for i in range(epochs):\n",
    "  # Calculate current gradients\n",
    "  grads = opt_2.calculate_gradient(X_train, y_train, model_2)\n",
    "  # Use the optimizer to update gradients\n",
    "  opt_2.apply_gradient(grads, model_2)\n",
    "  if i % 20 == 0:\n",
    "    print(\"Loss at epoch %d: %.3f\" % (i, loss(model_2(X_train), y_train)))\n",
    "\n",
    "print(\"Final loss: %.3f\" % loss(model_2(X_train), y_train))\n",
    "print(\"w = %s, b = %s\" % (model_2.w.numpy(), model_2.b.numpy()))"
   ]
  },
  {
   "cell_type": "code",
   "execution_count": 13,
   "metadata": {
    "deletable": false,
    "editable": false,
    "id": "NhDsd7ge3DSh",
    "nbgrader": {
     "cell_type": "code",
     "checksum": "51d3f5fa96af35d1ac41b8f88304daae",
     "grade": true,
     "grade_id": "test_AdaGrad",
     "locked": true,
     "points": 10,
     "schema_version": 3,
     "solution": false,
     "task": false
    }
   },
   "outputs": [],
   "source": [
    "# Test case\n",
    "assert np.allclose(loss(model_2(X_train), y_train), 29.0, atol=2.0), 'Wrong implementation of AdaGrad'\n"
   ]
  },
  {
   "cell_type": "markdown",
   "metadata": {
    "id": "lfBS1R4Y3Kzh"
   },
   "source": [
    "## (2d) Adam\n",
    "Although it sounds like a powerful algorithm, AdaGrad still has a bunch of shortcomings. One of them is that as the accumulated squared gradients becoming larger, the learning rate will be pushed to 0, leading to an early stop.\n",
    "\n",
    "Adam is designed to improve AdaGrad. It relies on adaptive moment estimation to set an independent adaptive learning rate for each parameter. The idea of Adam at the $t$ th epoch is described below:\n",
    "- Calculate current gradient $g^{(t)}$\n",
    "- Update biased first moment estimate\n",
    "  $$m^{(t)} = \\beta_1\\cdot m^{(t-1)}+(1-\\beta_1)\\cdot g^{(t)}$$\n",
    "- Update biased second raw moment estimate\n",
    "  $$v^{(t)} = \\beta_2\\cdot v^{(t-1)}+(1-\\beta_2)\\cdot (g^{(t)})^2$$\n",
    "- Compute bias-corrected first moment estimate\n",
    "  $$\\hat{m}^{(t)} = \\frac{m^{(t)}}{1-\\beta_1^t}$$\n",
    "- Compute bias-corrected second raw moment estimate\n",
    "  $$\\hat{v}^{(t)} = \\frac{v^{(t)}}{1-\\beta_2^t}$$\n",
    "- Update parameters with constrained learning rate\n",
    "  $$w^{(t)} = w^{(t-1)}-\\alpha\\cdot\\frac{\\hat{m}_w^{(t)}}{(\\sqrt{\\hat{v}_w^{(t)}}+\\epsilon)}$$\n",
    "  $$b^{(t)} = b^{(t-1)}-\\alpha\\cdot\\frac{\\hat{m}_b^{(t)}}{(\\sqrt{\\hat{v}_b^{(t)}}+\\epsilon)}$$\n",
    "\n",
    "where $\\beta_1$ and $\\beta_2$ are hyperparameters for the first and the second moment estimation\n",
    "\n",
    "As we can see from the update rule, Adam dynamically forms boundaries for its learning rate using first and second moment estimate without requiring too much memory space.\n",
    "\n",
    "Note that you can reuse the `calculate_gradient` function in SGD for Adam."
   ]
  },
  {
   "cell_type": "code",
   "execution_count": 14,
   "metadata": {
    "deletable": false,
    "id": "FfEvvKMPBGIF",
    "nbgrader": {
     "cell_type": "code",
     "checksum": "203d4e2eb49f88a71afb37aa0b0f6208",
     "grade": false,
     "grade_id": "Adam",
     "locked": false,
     "schema_version": 3,
     "solution": true,
     "task": false
    }
   },
   "outputs": [],
   "source": [
    "# TODO: Replace <FILL IN> with appropriate code\n",
    "class Adam():\n",
    "  def __init__(self, lr=0.001, beta1=0.9, beta2=0.999, epsilon=1e-7):\n",
    "    \"\"\"Initializes required parameters.\n",
    "\n",
    "      Note:\n",
    "        self.m is a list of Tensor, representing first moment estimations of gradients. The initial value should be [0].\n",
    "        self.v is a list of Tensor, representing second moment estimations of gradients. The initial value should be [0].\n",
    "        self.t is the timestep. The initial value should be 0.\n",
    "\n",
    "      Args:\n",
    "          lr (float): Learning rate.\n",
    "          epsilon (float): Additive constant that ensures we do not divide by 0.\n",
    "          beta1 (float): Hyperparameter for first moment estimation\n",
    "          beta2 (float): Hyperparameter for second moment estimation\n",
    "    \"\"\"\n",
    "    self.lr = lr\n",
    "    self.beta1 = beta1\n",
    "    self.beta2 = beta2\n",
    "    self.epsilon = epsilon\n",
    "    self.v = [tf.zeros_like(var) for var in model.trainable_variables]\n",
    "    self.m = [tf.zeros_like(var) for var in model.trainable_variables]\n",
    "    self.t = 0\n",
    "\n",
    "\n",
    "  def calculate_gradient(self, X, y, model):\n",
    "    \"\"\"Calculates gradients in the computational graph.\n",
    "\n",
    "      Note:\n",
    "          You should try to make use of Tensorflow library to perform related calculation.\n",
    "\n",
    "      Args:\n",
    "          X (tf.Tensor): The input.\n",
    "          y (tf.Tensor): The actual label.\n",
    "          model (tf.keras.Model): The model used to predict y with given input X.\n",
    "\n",
    "      Returns:\n",
    "          Tuple: (gradient w.r.t w, gradient w.r.t b)\n",
    "    \"\"\"\n",
    "    self.t+=1\n",
    "    grads_w, grads_b = SGD(self.lr).calculate_gradient(X,y,model)\n",
    "    return (grads_w, grads_b)\n",
    "\n",
    "\n",
    "  def apply_gradient(self, grads, model):\n",
    "    \"\"\"Updates parameters of the model.\n",
    "\n",
    "      Note:\n",
    "          You should try to make use of Tensorflow library to perform related calculation.\n",
    "\n",
    "      Args:\n",
    "          grads (Tuple): (gradient w.r.t w, gradient w.r.t b).\n",
    "          model (tf.keras.Model): The model used to predict y with given input X.\n",
    "    \"\"\"\n",
    "\n",
    "    self.m = [self.beta1 * m + (1 - self.beta1) * grad for m, grad in zip(self.m, grads)]\n",
    "    self.v = [self.beta2 * v + (1 - self.beta2) * tf.square(grad) for v, grad in zip(self.v, grads)]\n",
    "\n",
    "    m_hat = [m / (1 - tf.pow(self.beta1, self.t)) for m in self.m]\n",
    "    v_hat = [v / (1 - tf.pow(self.beta2, self.t)) for v in self.v]\n",
    "\n",
    "    updates = [-self.lr * m / (tf.sqrt(v) + self.epsilon) for m, v in zip(m_hat, v_hat)]\n",
    "\n",
    "    model.w.assign(model.w+updates[0])\n",
    "    model.b.assign(model.b+updates[1])\n",
    "\n",
    "\n"
   ]
  },
  {
   "cell_type": "code",
   "execution_count": 15,
   "metadata": {
    "colab": {
     "base_uri": "https://localhost:8080/"
    },
    "id": "V0ImykFnDgGf",
    "outputId": "fb30f522-3dfa-404b-8539-9bb63ea56ed5"
   },
   "outputs": [
    {
     "name": "stdout",
     "output_type": "stream",
     "text": [
      "Initial loss: 68.725\n",
      "Loss at epoch 0: 66.603\n",
      "Loss at epoch 20: 39.164\n",
      "Loss at epoch 40: 21.743\n",
      "Loss at epoch 60: 11.948\n",
      "Loss at epoch 80: 6.606\n",
      "Loss at epoch 100: 3.751\n",
      "Loss at epoch 120: 1.984\n",
      "Loss at epoch 140: 1.366\n",
      "Loss at epoch 160: 1.209\n",
      "Loss at epoch 180: 1.110\n",
      "Loss at epoch 200: 0.989\n",
      "Loss at epoch 220: 0.982\n",
      "Loss at epoch 240: 0.972\n",
      "Loss at epoch 260: 0.984\n",
      "Loss at epoch 280: 0.996\n",
      "Final loss: 1.027\n",
      "w = [[4.080393  3.0715084]], b = 1.7898936\n"
     ]
    }
   ],
   "source": [
    "# Evaluation\n",
    "model_3 = Linear()\n",
    "opt_3 = Adam(lr=0.1)\n",
    "print(\"Initial loss: %.3f\" % loss(model_3(X_train), y_train))\n",
    "\n",
    "epochs = 300\n",
    "for i in range(epochs):\n",
    "  # Calculate current gradients\n",
    "  grads = opt_3.calculate_gradient(X_train, y_train, model_3)\n",
    "  # Use the optimizer to update gradients\n",
    "  opt_3.apply_gradient(grads, model_3)\n",
    "  if i % 20 == 0:\n",
    "    print(\"Loss at epoch %d: %.3f\" % (i, loss(model_3(X_train), y_train)))\n",
    "\n",
    "print(\"Final loss: %.3f\" % loss(model_3(X_train), y_train))\n",
    "print(\"w = %s, b = %s\" % (model_3.w.numpy(), model_3.b.numpy()))"
   ]
  },
  {
   "cell_type": "code",
   "execution_count": 16,
   "metadata": {
    "deletable": false,
    "editable": false,
    "id": "T4WougDyDswB",
    "nbgrader": {
     "cell_type": "code",
     "checksum": "a9b20bbff8cafa63968a8d947858b2f3",
     "grade": true,
     "grade_id": "test_Adam",
     "locked": true,
     "points": 15,
     "schema_version": 3,
     "solution": false,
     "task": false
    }
   },
   "outputs": [],
   "source": [
    "# Test case\n",
    "assert np.allclose(loss(model_3(X_train), y_train), 1.0, atol=0.4), 'Wrong implementation of Adam'\n"
   ]
  }
 ],
 "metadata": {
  "colab": {
   "provenance": []
  },
  "kernelspec": {
   "display_name": "Python 3 (ipykernel)",
   "language": "python",
   "name": "python3"
  },
  "language_info": {
   "codemirror_mode": {
    "name": "ipython",
    "version": 3
   },
   "file_extension": ".py",
   "mimetype": "text/x-python",
   "name": "python",
   "nbconvert_exporter": "python",
   "pygments_lexer": "ipython3",
   "version": "3.9.12"
  }
 },
 "nbformat": 4,
 "nbformat_minor": 1
}
